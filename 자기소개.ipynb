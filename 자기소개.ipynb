{
 "cells": [
  {
   "cell_type": "markdown",
   "metadata": {},
   "source": [
    "# __Let me introduce my self__"
   ]
  },
  {
   "cell_type": "markdown",
   "metadata": {},
   "source": [
    "---"
   ]
  },
  {
   "cell_type": "markdown",
   "metadata": {},
   "source": [
    "### 소개인사"
   ]
  },
  {
   "cell_type": "markdown",
   "metadata": {},
   "source": [
    "---"
   ]
  },
  {
   "cell_type": "markdown",
   "metadata": {},
   "source": [
    "안녕하세요 저는 김경민입니다!\n",
    "저는\n",
    "+ 현재 경영학과 학사\n",
    "+ 얼마 전 창업을 해서 사업을 진행중\n",
    "\n",
    "에 있습니다! 만나서 반갑습니다. 원래 올해 1월에 미국으로 교환학생을 갔었는데 코로나 덕분에(^^) 중도 취소하고 한국에 들어와 있습니다~ 들어 온 이후로 친구와 사이드프로젝트 관련 플랫폼을 제작중에 있습니다"
   ]
  },
  {
   "cell_type": "markdown",
   "metadata": {},
   "source": [
    "### 안부인사"
   ]
  },
  {
   "cell_type": "markdown",
   "metadata": {},
   "source": [
    "---"
   ]
  },
  {
   "cell_type": "markdown",
   "metadata": {},
   "source": [
    "코로나 때문에 어떤 것도 장담할 수 있는 어제와 오늘이네요. 처음엔 학여울역까지 안가도\n",
    "되니까 온라인 수업이 좋다고 생각했는데 너무 무료하고 심심하네요 ㅠㅠ\n",
    "(또 막상 오프라인으로 하면 오고 가는게 힘들겠지만 말이에요 ㅎㅎ)\n",
    "짧지 않은 시간을 투자하시는만큼 많은 걸 배워갔으면 좋겠습니다 !"
   ]
  },
  {
   "cell_type": "markdown",
   "metadata": {},
   "source": [
    "[구글](https://google.com)"
   ]
  },
  {
   "cell_type": "markdown",
   "metadata": {},
   "source": [
    "![Alt text](./yellowduck.png)"
   ]
  },
  {
   "cell_type": "code",
   "execution_count": null,
   "metadata": {},
   "outputs": [],
   "source": []
  }
 ],
 "metadata": {
  "kernelspec": {
   "display_name": "Python 3",
   "language": "python",
   "name": "python3"
  },
  "language_info": {
   "codemirror_mode": {
    "name": "ipython",
    "version": 3
   },
   "file_extension": ".py",
   "mimetype": "text/x-python",
   "name": "python",
   "nbconvert_exporter": "python",
   "pygments_lexer": "ipython3",
   "version": "3.7.7"
  }
 },
 "nbformat": 4,
 "nbformat_minor": 4
}
